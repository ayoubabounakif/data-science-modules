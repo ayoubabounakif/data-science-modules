{
 "cells": [
  {
   "cell_type": "code",
   "execution_count": 12,
   "metadata": {},
   "outputs": [],
   "source": [
    "import pandas as pd\n",
    "import matplotlib.pyplot as plt\n",
    "from sqlalchemy import create_engine, text\n",
    "import matplotlib.dates as mdates\n",
    "import matplotlib.ticker as mtick\n",
    "import seaborn as sns"
   ]
  },
  {
   "cell_type": "code",
   "execution_count": 3,
   "metadata": {},
   "outputs": [],
   "source": [
    "user = \"aabounak\"\n",
    "password = \"mysecretpassword\"\n",
    "host = \"localhost\"\n",
    "port = \"5432\"\n",
    "database = \"piscineds\"\n",
    "\n",
    "def connect_to_postgres():\n",
    "  return create_engine(\n",
    "    url=f\"postgresql://{user}:{password}@{host}:{port}/{database}\"\n",
    "  )"
   ]
  },
  {
   "cell_type": "code",
   "execution_count": 4,
   "metadata": {},
   "outputs": [],
   "source": [
    "engine = connect_to_postgres()"
   ]
  },
  {
   "cell_type": "code",
   "execution_count": 62,
   "metadata": {},
   "outputs": [
    {
     "data": {
      "text/html": [
       "<div>\n",
       "<style scoped>\n",
       "    .dataframe tbody tr th:only-of-type {\n",
       "        vertical-align: middle;\n",
       "    }\n",
       "\n",
       "    .dataframe tbody tr th {\n",
       "        vertical-align: top;\n",
       "    }\n",
       "\n",
       "    .dataframe thead th {\n",
       "        text-align: right;\n",
       "    }\n",
       "</style>\n",
       "<table border=\"1\" class=\"dataframe\">\n",
       "  <thead>\n",
       "    <tr style=\"text-align: right;\">\n",
       "      <th></th>\n",
       "      <th>event_time</th>\n",
       "      <th>event_type</th>\n",
       "      <th>product_id</th>\n",
       "      <th>price</th>\n",
       "      <th>user_id</th>\n",
       "      <th>user_session</th>\n",
       "      <th>category_id</th>\n",
       "      <th>category_code</th>\n",
       "      <th>brand</th>\n",
       "    </tr>\n",
       "  </thead>\n",
       "  <tbody>\n",
       "    <tr>\n",
       "      <th>0</th>\n",
       "      <td>2022-11-24 09:19:35+00:00</td>\n",
       "      <td>remove_from_cart</td>\n",
       "      <td>5834156</td>\n",
       "      <td>6.19</td>\n",
       "      <td>471197852</td>\n",
       "      <td>2c9b5705-8f03-42a2-94db-4d065e51496d</td>\n",
       "      <td>NaN</td>\n",
       "      <td>None</td>\n",
       "      <td>None</td>\n",
       "    </tr>\n",
       "    <tr>\n",
       "      <th>1</th>\n",
       "      <td>2022-11-24 09:19:35+00:00</td>\n",
       "      <td>view</td>\n",
       "      <td>5785449</td>\n",
       "      <td>3.76</td>\n",
       "      <td>538130829</td>\n",
       "      <td>f727b153-4166-4abb-a6d4-2712c5f32930</td>\n",
       "      <td>1.658462e+18</td>\n",
       "      <td>None</td>\n",
       "      <td>None</td>\n",
       "    </tr>\n",
       "    <tr>\n",
       "      <th>2</th>\n",
       "      <td>2022-11-24 09:19:35+00:00</td>\n",
       "      <td>view</td>\n",
       "      <td>5906528</td>\n",
       "      <td>5.56</td>\n",
       "      <td>575796783</td>\n",
       "      <td>60700628-3116-47ad-a58e-df4878253867</td>\n",
       "      <td>1.487580e+18</td>\n",
       "      <td>None</td>\n",
       "      <td>None</td>\n",
       "    </tr>\n",
       "    <tr>\n",
       "      <th>3</th>\n",
       "      <td>2022-11-24 09:19:36+00:00</td>\n",
       "      <td>cart</td>\n",
       "      <td>5677619</td>\n",
       "      <td>0.83</td>\n",
       "      <td>565745379</td>\n",
       "      <td>004e7e9a-4769-4f7a-be9b-ce0168b9a581</td>\n",
       "      <td>NaN</td>\n",
       "      <td>None</td>\n",
       "      <td>None</td>\n",
       "    </tr>\n",
       "    <tr>\n",
       "      <th>4</th>\n",
       "      <td>2022-11-24 09:19:39+00:00</td>\n",
       "      <td>view</td>\n",
       "      <td>5759491</td>\n",
       "      <td>1.73</td>\n",
       "      <td>573094118</td>\n",
       "      <td>923c286b-3584-4745-92dd-2e15d883f8d7</td>\n",
       "      <td>1.487580e+18</td>\n",
       "      <td>None</td>\n",
       "      <td>None</td>\n",
       "    </tr>\n",
       "  </tbody>\n",
       "</table>\n",
       "</div>"
      ],
      "text/plain": [
       "                 event_time        event_type  product_id price    user_id  \\\n",
       "0 2022-11-24 09:19:35+00:00  remove_from_cart     5834156  6.19  471197852   \n",
       "1 2022-11-24 09:19:35+00:00              view     5785449  3.76  538130829   \n",
       "2 2022-11-24 09:19:35+00:00              view     5906528  5.56  575796783   \n",
       "3 2022-11-24 09:19:36+00:00              cart     5677619  0.83  565745379   \n",
       "4 2022-11-24 09:19:39+00:00              view     5759491  1.73  573094118   \n",
       "\n",
       "                           user_session   category_id category_code brand  \n",
       "0  2c9b5705-8f03-42a2-94db-4d065e51496d           NaN          None  None  \n",
       "1  f727b153-4166-4abb-a6d4-2712c5f32930  1.658462e+18          None  None  \n",
       "2  60700628-3116-47ad-a58e-df4878253867  1.487580e+18          None  None  \n",
       "3  004e7e9a-4769-4f7a-be9b-ce0168b9a581           NaN          None  None  \n",
       "4  923c286b-3584-4745-92dd-2e15d883f8d7  1.487580e+18          None  None  "
      ]
     },
     "execution_count": 62,
     "metadata": {},
     "output_type": "execute_result"
    }
   ],
   "source": [
    "with engine.connect() as connection:\n",
    "  result = connection.execute(text('select * from customers limit 100000'))\n",
    "  data = result.fetchall()\n",
    "\n",
    "columns_names = result.keys()\n",
    "df = pd.DataFrame(data, columns=columns_names)\n",
    "df.head()"
   ]
  },
  {
   "cell_type": "markdown",
   "metadata": {},
   "source": [
    "### Exercise 00"
   ]
  },
  {
   "cell_type": "code",
   "execution_count": 55,
   "metadata": {},
   "outputs": [
    {
     "data": {
      "text/plain": [
       "<Axes: ylabel='count'>"
      ]
     },
     "execution_count": 55,
     "metadata": {},
     "output_type": "execute_result"
    },
    {
     "data": {
      "image/png": "[encoded data removed]",
      "text/plain": [
       "<Figure size 640x480 with 1 Axes>"
      ]
     },
     "metadata": {},
     "output_type": "display_data"
    }
   ],
   "source": [
    "df['event_type'].value_counts().plot(kind='pie', autopct='%1.1f%%')"
   ]
  },
  {
   "cell_type": "markdown",
   "metadata": {},
   "source": [
    "### Exercise 01"
   ]
  },
  {
   "cell_type": "code",
   "execution_count": 56,
   "metadata": {},
   "outputs": [
    {
     "data": {
      "image/png": "[encoded data removed]",
      "text/plain": [
       "<Figure size 640x480 with 1 Axes>"
      ]
     },
     "metadata": {},
     "output_type": "display_data"
    }
   ],
   "source": [
    "df['event_time'] = pd.to_datetime(df['event_time'])\n",
    "filtered_data = df[(df['event_type'] == 'purchase')]\n",
    "\n",
    "agg_data = filtered_data.resample('M', on='event_time').agg({\n",
    "    'event_type': 'count',\n",
    "    'price': 'sum'\n",
    "}).reset_index()\n",
    "\n",
    "agg_data['event_time'] = agg_data['event_time'].dt.strftime('%b')\n",
    "\n",
    "sns.barplot(data=agg_data, x='event_time', y='price')\n",
    "\n",
    "def formatter(x, pos):\n",
    "    return f'{x / 1000000}'\n",
    "\n",
    "y_formatter = mtick.FuncFormatter(formatter)\n",
    "plt.gca().yaxis.set_major_formatter(y_formatter)\n",
    "plt.xlabel('Month')\n",
    "plt.ylabel('Total sales in million of Altairian Dollars.')\n",
    "plt.show()"
   ]
  },
  {
   "cell_type": "code",
   "execution_count": 63,
   "metadata": {},
   "outputs": [
    {
     "name": "stdout",
     "output_type": "stream",
     "text": [
      "                   event_time event_type  product_id  price    user_id  \\\n",
      "85  2023-02-27 08:17:26+00:00   purchase     5775980  11.90  571008803   \n",
      "86  2023-02-27 08:17:26+00:00   purchase     5844397   2.38  571008803   \n",
      "87  2023-02-27 08:17:26+00:00   purchase     5868876   9.21  571008803   \n",
      "260 2023-02-27 08:20:38+00:00   purchase     5842162   1.59  569056030   \n",
      "261 2023-02-27 08:20:38+00:00   purchase     5844301   1.57  569056030   \n",
      "262 2023-02-27 08:20:38+00:00   purchase     5844302   1.57  569056030   \n",
      "316 2023-02-27 08:21:27+00:00   purchase     5841799   0.13  617713222   \n",
      "317 2023-02-27 08:21:27+00:00   purchase     5842112   0.79  617713222   \n",
      "318 2023-02-27 08:21:27+00:00   purchase     5845399   1.98  617713222   \n",
      "319 2023-02-27 08:21:27+00:00   purchase     5849552  10.95  617713222   \n",
      "\n",
      "                             user_session   category_id category_code brand  \n",
      "85   69d119bf-ca7f-445f-bc81-67d89bd89b49  1.783999e+18          None  None  \n",
      "86   69d119bf-ca7f-445f-bc81-67d89bd89b49           NaN          None  None  \n",
      "87   69d119bf-ca7f-445f-bc81-67d89bd89b49           NaN          None  None  \n",
      "260  d552332e-d1ca-4727-855f-caba10900986           NaN          None  None  \n",
      "261  d552332e-d1ca-4727-855f-caba10900986           NaN          None  None  \n",
      "262  d552332e-d1ca-4727-855f-caba10900986           NaN          None  None  \n",
      "316  bedfc9ee-f498-4fb3-8732-7d44bf23b508           NaN          None  None  \n",
      "317  bedfc9ee-f498-4fb3-8732-7d44bf23b508           NaN          None  None  \n",
      "318  bedfc9ee-f498-4fb3-8732-7d44bf23b508           NaN          None  None  \n",
      "319  bedfc9ee-f498-4fb3-8732-7d44bf23b508           NaN          None  None  \n"
     ]
    }
   ],
   "source": [
    "\n",
    "print(filtered_data.head(10))\n",
    "sns.lineplot(data=filtered_data, x='event_time', y='price')\n"
   ]
  }
 ],
 "metadata": {
  "kernelspec": {
   "display_name": "42AI-aabounak",
   "language": "python",
   "name": "python3"
  },
  "language_info": {
   "codemirror_mode": {
    "name": "ipython",
    "version": 3
   },
   "file_extension": ".py",
   "mimetype": "text/x-python",
   "name": "python",
   "nbconvert_exporter": "python",
   "pygments_lexer": "ipython3",
   "version": "3.10.12"
  },
  "orig_nbformat": 4
 },
 "nbformat": 4,
 "nbformat_minor": 2
}
