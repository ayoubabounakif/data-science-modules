{
 "cells": [
  {
   "cell_type": "code",
   "execution_count": null,
   "metadata": {},
   "outputs": [],
   "source": [
    "import pandas as pd\n",
    "import matplotlib.pyplot as plt\n",
    "from sqlalchemy import create_engine, text\n",
    "import seaborn as sns\n",
    "import matplotlib.dates as mdates"
   ]
  },
  {
   "cell_type": "code",
   "execution_count": null,
   "metadata": {},
   "outputs": [],
   "source": [
    "user = \"aabounak\"\n",
    "password = \"mysecretpassword\"\n",
    "host = \"localhost\"\n",
    "port = \"5432\"\n",
    "database = \"piscineds\"\n",
    "\n",
    "def connect_to_postgres():\n",
    "  return create_engine(\n",
    "    url=f\"postgresql://{user}:{password}@{host}:{port}/{database}\"\n",
    "  )"
   ]
  },
  {
   "cell_type": "code",
   "execution_count": null,
   "metadata": {},
   "outputs": [],
   "source": [
    "engine = connect_to_postgres()"
   ]
  },
  {
   "cell_type": "code",
   "execution_count": null,
   "metadata": {},
   "outputs": [],
   "source": [
    "with engine.connect() as connection:\n",
    "  result = connection.execute(text('select * from customers limit 10000000'))\n",
    "  data = result.fetchall()\n",
    "\n",
    "columns_names = result.keys()\n",
    "df = pd.DataFrame(data, columns=columns_names)\n",
    "df.head()"
   ]
  },
  {
   "cell_type": "code",
   "execution_count": null,
   "metadata": {},
   "outputs": [],
   "source": [
    "sns.set_style(\"darkgrid\")"
   ]
  },
  {
   "cell_type": "code",
   "execution_count": null,
   "metadata": {},
   "outputs": [],
   "source": [
    "df['event_time'] = pd.to_datetime(df['event_time'])\n",
    "purchase_data = df[(df['event_type'] == 'purchase')]"
   ]
  },
  {
   "cell_type": "code",
   "execution_count": null,
   "metadata": {},
   "outputs": [],
   "source": [
    "purchase_data = purchase_data.copy()"
   ]
  },
  {
   "cell_type": "code",
   "execution_count": null,
   "metadata": {},
   "outputs": [],
   "source": [
    "purchase_data['year'] = purchase_data['event_time'].dt.year\n",
    "purchase_data.loc[:, 'month'] = purchase_data['event_time'].dt.month\n",
    "purchase_data.loc[:, 'day'] = purchase_data['event_time'].dt.day"
   ]
  },
  {
   "cell_type": "code",
   "execution_count": null,
   "metadata": {},
   "outputs": [],
   "source": [
    "daily_customer_counts = purchase_data.groupby(['year', 'month', 'day'])['user_id'].nunique().reset_index()\n",
    "daily_customer_counts['date'] = pd.to_datetime(daily_customer_counts[['year', 'month', 'day']].astype(str).agg('-'.join, axis=1))\n",
    "\n",
    "plt.ylabel('Number of customers')\n",
    "plt.xlabel('Date')\n",
    "plt.gca().xaxis.set_major_formatter(mdates.DateFormatter('%b'))\n",
    "\n",
    "sns.lineplot(data=daily_customer_counts, x='date', y='user_id')"
   ]
  },
  {
   "cell_type": "code",
   "execution_count": null,
   "metadata": {},
   "outputs": [],
   "source": [
    "total_sales = purchase_data.groupby(['year', 'month'])['price'].sum().reset_index()\n",
    "total_sales['date'] = pd.to_datetime(total_sales[['year', 'month']].astype(str).agg('-'.join, axis=1)).dt.strftime('%b')\n",
    "\n",
    "total_sales['price_in_million'] = total_sales['price'] / 1000000\n",
    "\n",
    "sns.barplot(data=total_sales, x='date', y='price_in_million')\n",
    "\n",
    "plt.xlabel('Month')\n",
    "plt.ylabel('Total sales in million of Altairian Dollars.')\n",
    "plt.show()"
   ]
  },
  {
   "cell_type": "code",
   "execution_count": null,
   "metadata": {},
   "outputs": [],
   "source": [
    "total_sales = purchase_data.groupby(['year', 'month', 'day'])['price'].sum().reset_index()\n",
    "merged_data = pd.merge(total_sales, daily_customer_counts, on=['year', 'month', 'day'])\n",
    "merged_data['average_spend_per_customer'] = merged_data['price'] / merged_data['user_id']\n",
    "merged_data['date'] = pd.to_datetime(merged_data[['year', 'month', 'day']].astype(str).agg('-'.join, axis=1))\n",
    "\n",
    "sns.lineplot(data=merged_data, x='date', y='average_spend_per_customer')\n",
    "\n",
    "plt.gca().xaxis.set_major_formatter(mdates.DateFormatter('%b')) \n",
    "plt.fill_between(merged_data['date'], merged_data['average_spend_per_customer'])\n",
    "plt.ylabel('Average spend/customers in Altairian Dollars')\n",
    "plt.show()\n"
   ]
  }
 ],
 "metadata": {
  "kernelspec": {
   "display_name": "42AI-aabounak",
   "language": "python",
   "name": "python3"
  },
  "language_info": {
   "name": "python",
   "version": "3.10.13"
  },
  "orig_nbformat": 4
 },
 "nbformat": 4,
 "nbformat_minor": 2
}
