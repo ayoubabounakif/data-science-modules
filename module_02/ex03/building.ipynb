{
 "cells": [
  {
   "cell_type": "code",
   "execution_count": null,
   "metadata": {},
   "outputs": [],
   "source": [
    "import pandas as pd\n",
    "import matplotlib.pyplot as plt\n",
    "from sqlalchemy import create_engine, text\n",
    "import seaborn as sns"
   ]
  },
  {
   "cell_type": "code",
   "execution_count": null,
   "metadata": {},
   "outputs": [],
   "source": [
    "user = \"aabounak\"\n",
    "password = \"mysecretpassword\"\n",
    "host = \"localhost\"\n",
    "port = \"5433\"\n",
    "database = \"piscineds\"\n",
    "\n",
    "def connect_to_postgres():\n",
    "  return create_engine(\n",
    "    url=f\"postgresql://{user}:{password}@{host}:{port}/{database}\"\n",
    "  )"
   ]
  },
  {
   "cell_type": "code",
   "execution_count": null,
   "metadata": {},
   "outputs": [],
   "source": [
    "engine = connect_to_postgres()"
   ]
  },
  {
   "cell_type": "code",
   "execution_count": null,
   "metadata": {},
   "outputs": [],
   "source": [
    "with engine.connect() as connection:\n",
    "  result = connection.execute(text('select * from customers limit 10000000'))\n",
    "  data = result.fetchall()\n",
    "\n",
    "columns_names = result.keys()\n",
    "df = pd.DataFrame(data, columns=columns_names)\n",
    "df.head()"
   ]
  },
  {
   "cell_type": "code",
   "execution_count": null,
   "metadata": {},
   "outputs": [],
   "source": [
    "sns.set_style(\"darkgrid\")"
   ]
  },
  {
   "cell_type": "code",
   "execution_count": null,
   "metadata": {},
   "outputs": [],
   "source": [
    "df['event_time'] = pd.to_datetime(df['event_time'])\n",
    "purchase_data = df[(df['event_type'] == 'purchase')]"
   ]
  },
  {
   "cell_type": "code",
   "execution_count": null,
   "metadata": {},
   "outputs": [],
   "source": [
    "purchase_data = purchase_data.copy()"
   ]
  },
  {
   "cell_type": "code",
   "execution_count": null,
   "metadata": {},
   "outputs": [],
   "source": [
    "grouped_data = purchase_data.groupby('user_id').size().reset_index(name='purchases')\n",
    "freq = grouped_data[grouped_data['purchases'] < 30].sort_values(by='purchases', ascending=False)\n",
    "\n",
    "ax = sns.histplot(data=freq, x='purchases', bins=5)\n",
    "ax.set(xlabel='frequency', ylabel='customers')\n",
    "ax.set_xticks([0, 10, 20, 30])\n",
    "plt.show()"
   ]
  },
  {
   "cell_type": "code",
   "execution_count": null,
   "metadata": {},
   "outputs": [],
   "source": [
    "grouped_data = purchase_data.groupby('user_id')['price'].sum().reset_index(name='purchases')\n",
    "monetary = grouped_data[grouped_data['purchases'] < 200].sort_values(by='purchases')\n",
    "\n",
    "ax = sns.histplot(data=monetary, x='purchases', bins=5)\n",
    "ax.set(xlabel='monetary value in Altairian Dollars', ylabel='customers')\n",
    "ax.set_xticks([0, 50, 100, 150, 200])\n",
    "plt.show()"
   ]
  }
 ],
 "metadata": {
  "kernelspec": {
   "display_name": "42AI-aabounak",
   "language": "python",
   "name": "python3"
  },
  "language_info": {
   "name": "python",
   "version": "3.10.13"
  },
  "orig_nbformat": 4
 },
 "nbformat": 4,
 "nbformat_minor": 2
}
