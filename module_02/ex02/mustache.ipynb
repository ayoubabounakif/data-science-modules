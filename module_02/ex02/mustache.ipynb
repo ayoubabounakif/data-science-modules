{
 "cells": [
  {
   "cell_type": "code",
   "execution_count": null,
   "metadata": {},
   "outputs": [],
   "source": [
    "import pandas as pd\n",
    "import matplotlib.pyplot as plt\n",
    "from sqlalchemy import create_engine, text\n",
    "import seaborn as sns"
   ]
  },
  {
   "cell_type": "code",
   "execution_count": null,
   "metadata": {},
   "outputs": [],
   "source": [
    "user = \"aabounak\"\n",
    "password = \"mysecretpassword\"\n",
    "host = \"localhost\"\n",
    "port = \"5433\"\n",
    "database = \"piscineds\"\n",
    "\n",
    "def connect_to_postgres():\n",
    "  return create_engine(\n",
    "    url=f\"postgresql://{user}:{password}@{host}:{port}/{database}\"\n",
    "  )"
   ]
  },
  {
   "cell_type": "code",
   "execution_count": null,
   "metadata": {},
   "outputs": [],
   "source": [
    "engine = connect_to_postgres()"
   ]
  },
  {
   "cell_type": "code",
   "execution_count": null,
   "metadata": {},
   "outputs": [],
   "source": [
    "with engine.connect() as connection:\n",
    "  result = connection.execute(text('select * from customers limit 10000000'))\n",
    "  data = result.fetchall()\n",
    "\n",
    "columns_names = result.keys()\n",
    "df = pd.DataFrame(data, columns=columns_names)\n",
    "df.head()"
   ]
  },
  {
   "cell_type": "code",
   "execution_count": null,
   "metadata": {},
   "outputs": [],
   "source": [
    "sns.set_style(\"darkgrid\")"
   ]
  },
  {
   "cell_type": "code",
   "execution_count": null,
   "metadata": {},
   "outputs": [],
   "source": [
    "df['event_time'] = pd.to_datetime(df['event_time'])\n",
    "purchase_data = df[(df['event_type'] == 'purchase')]"
   ]
  },
  {
   "cell_type": "code",
   "execution_count": null,
   "metadata": {},
   "outputs": [],
   "source": [
    "purchase_data = purchase_data.copy()"
   ]
  },
  {
   "cell_type": "code",
   "execution_count": null,
   "metadata": {},
   "outputs": [],
   "source": [
    "transformed_purchase_data = purchase_data.copy()\n",
    "transformed_purchase_data['price'] = transformed_purchase_data['price'].astype(float)\n",
    "\n",
    "print(transformed_purchase_data['price'].describe())\n",
    "sns.boxplot(data=transformed_purchase_data, x='price')\n",
    "plt.show()"
   ]
  },
  {
   "cell_type": "code",
   "execution_count": null,
   "metadata": {},
   "outputs": [],
   "source": [
    "sns.boxplot(data=transformed_purchase_data, x='price', showfliers=False, color='mediumseagreen')"
   ]
  },
  {
   "cell_type": "code",
   "execution_count": null,
   "metadata": {},
   "outputs": [],
   "source": [
    "cart_df = df[(df['event_type'] == 'cart')]\n",
    "cart_df = cart_df.copy()"
   ]
  },
  {
   "cell_type": "code",
   "execution_count": null,
   "metadata": {},
   "outputs": [],
   "source": [
    "avg_basket = cart_df.groupby('user_id')['price'].mean().reset_index(name='avg_basket_price')\n",
    "avg_basket.head(10)\n",
    "sns.boxplot(data=avg_basket, x='avg_basket_price', showfliers=False)"
   ]
  }
 ],
 "metadata": {
  "kernelspec": {
   "display_name": "42AI-aabounak",
   "language": "python",
   "name": "python3"
  },
  "language_info": {
   "name": "python",
   "version": "3.10.13"
  },
  "orig_nbformat": 4
 },
 "nbformat": 4,
 "nbformat_minor": 2
}
