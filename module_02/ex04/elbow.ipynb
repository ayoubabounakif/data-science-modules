{
 "cells": [
  {
   "cell_type": "code",
   "execution_count": null,
   "metadata": {},
   "outputs": [],
   "source": [
    "import pandas as pd\n",
    "import matplotlib.pyplot as plt\n",
    "from sqlalchemy import create_engine, text\n",
    "import seaborn as sns\n",
    "from sklearn.cluster import KMeans\n",
    "from sklearn.preprocessing import StandardScaler"
   ]
  },
  {
   "cell_type": "code",
   "execution_count": null,
   "metadata": {},
   "outputs": [],
   "source": [
    "user = \"aabounak\"\n",
    "password = \"mysecretpassword\"\n",
    "host = \"localhost\"\n",
    "port = \"5432\"\n",
    "database = \"piscineds\"\n",
    "\n",
    "def connect_to_postgres():\n",
    "  return create_engine(\n",
    "    url=f\"postgresql://{user}:{password}@{host}:{port}/{database}\"\n",
    "  )"
   ]
  },
  {
   "cell_type": "code",
   "execution_count": null,
   "metadata": {},
   "outputs": [],
   "source": [
    "engine = connect_to_postgres()"
   ]
  },
  {
   "cell_type": "code",
   "execution_count": null,
   "metadata": {},
   "outputs": [],
   "source": [
    "with engine.connect() as connection:\n",
    "  result = connection.execute(text('select * from customers limit 10000000'))\n",
    "  data = result.fetchall()\n",
    "\n",
    "columns_names = result.keys()\n",
    "df = pd.DataFrame(data, columns=columns_names)\n",
    "df.head()"
   ]
  },
  {
   "cell_type": "code",
   "execution_count": null,
   "metadata": {},
   "outputs": [],
   "source": [
    "sns.set_style(\"darkgrid\")"
   ]
  },
  {
   "cell_type": "code",
   "execution_count": null,
   "metadata": {},
   "outputs": [],
   "source": [
    "df['event_time'] = pd.to_datetime(df['event_time'])\n",
    "purchase_data = df[(df['event_type'] == 'purchase')]"
   ]
  },
  {
   "cell_type": "code",
   "execution_count": null,
   "metadata": {},
   "outputs": [],
   "source": [
    "purchase_data = purchase_data.copy()\n",
    "\n",
    "grouped_data = purchase_data.groupby('user_id').size().reset_index(name='purchases')\n",
    "freq = grouped_data[grouped_data['purchases'] < 30].sort_values(by='purchases', ascending=False)"
   ]
  },
  {
   "cell_type": "code",
   "execution_count": null,
   "metadata": {},
   "outputs": [],
   "source": [
    "data = freq.copy()\n",
    "scaled_data = StandardScaler().fit_transform(data)\n",
    "\n",
    "kmeans_kwargs = {\n",
    "    \"init\": \"random\",\n",
    "    \"n_init\": 10,\n",
    "    \"random_state\": 1,\n",
    "}\n",
    "\n",
    "sse = []\n",
    "n_cluster = range(1, 11)\n",
    "for k in n_cluster:\n",
    "    kmeans = KMeans(n_clusters=k, **kmeans_kwargs)\n",
    "    kmeans.fit(scaled_data)\n",
    "    # inertia: Sum of squared distances of samples to their closest cluster center.\n",
    "    sse.append(kmeans.inertia_)\n",
    "\n",
    "plt.plot(n_cluster, sse)\n",
    "plt.xlabel(\"Number of clusters\")\n",
    "plt.title(\"The Elbow Method\")\n",
    "plt.show()"
   ]
  }
 ],
 "metadata": {
  "kernelspec": {
   "display_name": "42AI-aabounak",
   "language": "python",
   "name": "python3"
  },
  "language_info": {
   "name": "python",
   "version": "3.10.13"
  },
  "orig_nbformat": 4
 },
 "nbformat": 4,
 "nbformat_minor": 2
}
