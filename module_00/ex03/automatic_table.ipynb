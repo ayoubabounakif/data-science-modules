{
 "cells": [
  {
   "cell_type": "code",
   "execution_count": 1,
   "metadata": {},
   "outputs": [],
   "source": [
    "import psycopg2 as ppg2"
   ]
  },
  {
   "cell_type": "code",
   "execution_count": null,
   "metadata": {},
   "outputs": [],
   "source": [
    "def connect_to_postgres():\n",
    "  con = ppg2.connect(\n",
    "    database=\"piscineds\",\n",
    "    user=\"aabounak\",\n",
    "    password=\"mysecretpassword\",\n",
    "    host=\"localhost\",\n",
    "    port=\"5432\"\n",
    "  )\n",
    "  return con"
   ]
  },
  {
   "cell_type": "code",
   "execution_count": null,
   "metadata": {},
   "outputs": [],
   "source": [
    "connection = connect_to_postgres()\n",
    "cursor_obj = connection.cursor()"
   ]
  },
  {
   "cell_type": "code",
   "execution_count": null,
   "metadata": {},
   "outputs": [],
   "source": [
    "customers_csvs = [\n",
    "  \"data_2022_oct.csv\",\n",
    "  \"data_2022_nov.csv\",\n",
    "  \"data_2022_dec.csv\",\n",
    "  \"data_2023_jan.csv\",\n",
    "  \"data_2023_feb.csv\",\n",
    "]\n",
    "\n",
    "for file in customers_csvs:\n",
    "  table_name = f\"{file.split('.')[0]}\"\n",
    "  sql_query = f\"\"\"\n",
    "    CREATE TABLE IF NOT EXISTS public.\"{table_name}\" (\n",
    "      event_time TIMESTAMP WITH TIME ZONE,\n",
    "      event_type VARCHAR(50),\n",
    "      product_id INTEGER,\n",
    "      price NUMERIC(10, 2),\n",
    "      user_id INTEGER,\n",
    "      user_session VARCHAR(100)\n",
    "    );\n",
    "  \"\"\"\n",
    "  cursor_obj.execute(sql_query)\n",
    "  connection.commit()"
   ]
  },
  {
   "cell_type": "code",
   "execution_count": null,
   "metadata": {},
   "outputs": [],
   "source": [
    "for file in customers_csvs:\n",
    "  table_name = f\"{file.split('.')[0]}\"\n",
    "  file_path = f\"../../data/customers/{file}\"\n",
    "\n",
    "  with open(file_path, 'r') as f:\n",
    "    next(f)\n",
    "    cursor_obj.copy_from(\n",
    "      f,\n",
    "      table_name,\n",
    "      sep=',',\n",
    "      null='',\n",
    "      columns=(\n",
    "        'event_time',\n",
    "        'event_type',\n",
    "        'product_id',\n",
    "        'price',\n",
    "        'user_id',\n",
    "        'user_session'))\n",
    "    connection.commit()\n",
    "\n",
    "cursor_obj.close()"
   ]
  }
 ],
 "metadata": {
  "kernelspec": {
   "display_name": "42AI-aabounak",
   "language": "python",
   "name": "python3"
  },
  "language_info": {
   "codemirror_mode": {
    "name": "ipython",
    "version": 3
   },
   "file_extension": ".py",
   "mimetype": "text/x-python",
   "name": "python",
   "nbconvert_exporter": "python",
   "pygments_lexer": "ipython3",
   "version": "3.10.9"
  },
  "orig_nbformat": 4
 },
 "nbformat": 4,
 "nbformat_minor": 2
}
