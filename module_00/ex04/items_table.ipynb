{
 "cells": [
  {
   "cell_type": "code",
   "execution_count": null,
   "metadata": {},
   "outputs": [],
   "source": [
    "import pandas as pd\n",
    "import psycopg2 as ppg2"
   ]
  },
  {
   "cell_type": "code",
   "execution_count": null,
   "metadata": {},
   "outputs": [],
   "source": [
    "def connect_to_postgres():\n",
    "  con = ppg2.connect(\n",
    "    database=\"piscineds\",\n",
    "    user=\"aabounak\",\n",
    "    password=\"mysecretpassword\",\n",
    "    host=\"localhost\",\n",
    "    port=\"5433\"\n",
    "  )\n",
    "  return con"
   ]
  },
  {
   "cell_type": "code",
   "execution_count": null,
   "metadata": {},
   "outputs": [],
   "source": [
    "connection = connect_to_postgres()\n",
    "cursor_obj = connection.cursor()"
   ]
  },
  {
   "cell_type": "code",
   "execution_count": null,
   "metadata": {},
   "outputs": [],
   "source": [
    "table_name = \"items\"\n",
    "\n",
    "sql_query = f\"\"\"\n",
    "  CREATE TABLE IF NOT EXISTS public.\"{table_name}\" (\n",
    "    product_id INTEGER,\n",
    "    category_id BIGINT,\n",
    "    category_code TEXT,\n",
    "    brand TEXT\n",
    "  );\n",
    "\"\"\"\n",
    "cursor_obj.execute(sql_query)\n",
    "connection.commit()\n",
    "\n",
    "file_path = \"./items/item.csv\"\n",
    "\n",
    "with open(file_path, 'r') as f:\n",
    "  next(f)\n",
    "  cursor_obj.copy_from(\n",
    "    f,\n",
    "    table_name,\n",
    "    sep=',',\n",
    "    null='',\n",
    "    columns=(\n",
    "      'product_id',\n",
    "      'category_id',\n",
    "      'category_code',\n",
    "      'brand'\n",
    "    )\n",
    "  )\n",
    "connection.commit()\n",
    "\n",
    "cursor_obj.close()"
   ]
  }
 ],
 "metadata": {
  "language_info": {
   "name": "python"
  },
  "orig_nbformat": 4
 },
 "nbformat": 4,
 "nbformat_minor": 2
}
