{
 "cells": [
  {
   "cell_type": "code",
   "execution_count": null,
   "metadata": {},
   "outputs": [],
   "source": [
    "import psycopg2 as ppg2"
   ]
  },
  {
   "cell_type": "code",
   "execution_count": null,
   "metadata": {},
   "outputs": [],
   "source": [
    "def connect_to_postgres():\n",
    "  con = ppg2.connect(\n",
    "    database=\"piscineds\",\n",
    "    user=\"aabounak\",\n",
    "    password=\"mysecretpassword\",\n",
    "    host=\"localhost\",\n",
    "    port=\"5433\"\n",
    "  )\n",
    "  return con"
   ]
  },
  {
   "cell_type": "code",
   "execution_count": null,
   "metadata": {},
   "outputs": [],
   "source": [
    "connection = connect_to_postgres()\n",
    "cursor_obj = connection.cursor()"
   ]
  },
  {
   "cell_type": "code",
   "execution_count": null,
   "metadata": {},
   "outputs": [],
   "source": [
    "customers_csvs = [\n",
    "  \"data_2022_oct.csv\",\n",
    "  \"data_2022_nov.csv\",\n",
    "  \"data_2022_dec.csv\",\n",
    "  \"data_2023_jan.csv\",\n",
    "  \"data_2023_feb.csv\",\n",
    "]\n",
    "\n",
    "for file in customers_csvs:\n",
    "  table_name = f\"{file.split('.')[0]}\"\n",
    "  sql_query = f\"\"\"\n",
    "    CREATE TABLE IF NOT EXISTS public.\"{table_name}\" (\n",
    "      event_time TIMESTAMP WITH TIME ZONE,\n",
    "      event_type VARCHAR(50),\n",
    "      product_id INTEGER,\n",
    "      price NUMERIC(10, 2),\n",
    "      user_id INTEGER,\n",
    "      user_session VARCHAR(100)\n",
    "    );\n",
    "  \"\"\"\n",
    "  cursor_obj.execute(sql_query)\n",
    "  connection.commit()\n",
    "\n",
    "cursor_obj.close()"
   ]
  }
 ],
 "metadata": {
  "language_info": {
   "name": "python"
  },
  "orig_nbformat": 4
 },
 "nbformat": 4,
 "nbformat_minor": 2
}
