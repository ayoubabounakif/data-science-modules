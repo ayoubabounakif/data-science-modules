{
 "cells": [
  {
   "cell_type": "code",
   "execution_count": 42,
   "metadata": {},
   "outputs": [],
   "source": [
    "import pandas as pd\n",
    "import matplotlib.pyplot as plt\n",
    "import matplotlib.colors as mcolors\n",
    "import seaborn as sns\n",
    "import numpy as np"
   ]
  },
  {
   "cell_type": "code",
   "execution_count": 4,
   "metadata": {},
   "outputs": [],
   "source": [
    "truth = './data/processed/truth.txt'\n",
    "pred = './data/processed/predictions.txt'\n",
    "\n",
    "df_truth = pd.read_csv(truth, header=None, names=['class'])\n",
    "df_pred = pd.read_csv(pred, header=None, names=['class'])"
   ]
  },
  {
   "cell_type": "code",
   "execution_count": 5,
   "metadata": {},
   "outputs": [
    {
     "data": {
      "text/plain": [
       "(   class\n",
       " 0   Jedi\n",
       " 1   Jedi\n",
       " 2   Sith\n",
       " 3   Sith\n",
       " 4   Jedi\n",
       " ..   ...\n",
       " 95  Sith\n",
       " 96  Sith\n",
       " 97  Sith\n",
       " 98  Jedi\n",
       " 99  Sith\n",
       " \n",
       " [100 rows x 1 columns],\n",
       "    class\n",
       " 0   Sith\n",
       " 1   Sith\n",
       " 2   Jedi\n",
       " 3   Sith\n",
       " 4   Jedi\n",
       " ..   ...\n",
       " 95  Sith\n",
       " 96  Jedi\n",
       " 97  Jedi\n",
       " 98  Sith\n",
       " 99  Jedi\n",
       " \n",
       " [100 rows x 1 columns])"
      ]
     },
     "execution_count": 5,
     "metadata": {},
     "output_type": "execute_result"
    }
   ],
   "source": [
    "df_truth, df_pred"
   ]
  },
  {
   "cell_type": "code",
   "execution_count": 60,
   "metadata": {},
   "outputs": [
    {
     "data": {
      "text/plain": [
       "array([[0, 0],\n",
       "       [0, 0]])"
      ]
     },
     "execution_count": 60,
     "metadata": {},
     "output_type": "execute_result"
    }
   ],
   "source": [
    "confusion_matrix = np.array([\n",
    "    [0, 0],\n",
    "    [0, 0]\n",
    "])\n",
    "\n",
    "confusion_matrix\n",
    "# confusion_matrix[0][0] # TP\n",
    "# confusion_matrix[1][1] # TN\n",
    "# confusion_matrix[0][1] # FP\n",
    "# confusion_matrix[1][0] # FN"
   ]
  },
  {
   "cell_type": "code",
   "execution_count": 64,
   "metadata": {},
   "outputs": [
    {
     "name": "stdout",
     "output_type": "stream",
     "text": [
      "0.51 0.45\n",
      "[[100  96]\n",
      " [120  84]]\n"
     ]
    }
   ],
   "source": [
    "# Thinking of Jedi as positive and Sith as negative (binary classification)\n",
    "for i in range(len(df_pred)):\n",
    "    if df_truth['class'][i] == 'Jedi' and df_pred['class'][i] == 'Jedi': # TP\n",
    "        confusion_matrix[0][0] += 1\n",
    "    elif df_truth['class'][i] == 'Sith' and df_pred['class'][i] == 'Sith': # TN\n",
    "        confusion_matrix[1][1] += 1\n",
    "    elif df_truth['class'][i] == 'Jedi' and df_pred['class'][i] == 'Sith': # FP\n",
    "        confusion_matrix[0][1] += 1\n",
    "    elif df_truth['class'][i] == 'Sith' and df_pred['class'][i] == 'Jedi': # FN\n",
    "        confusion_matrix[1][0] += 1\n",
    "\n",
    "TP = confusion_matrix[0][0]\n",
    "TN = confusion_matrix[1][1]\n",
    "FP = confusion_matrix[0][1]\n",
    "FN = confusion_matrix[1][0]\n",
    "\n",
    "precision = f'{TP / (TP + FP):.2f}'\n",
    "recall = f'{TP / (TP + FN):.2f}'\n",
    "\n",
    "print(precision, recall)\n",
    "print(confusion_matrix)"
   ]
  },
  {
   "cell_type": "code",
   "execution_count": 58,
   "metadata": {},
   "outputs": [
    {
     "data": {
      "image/png": "[encoded data removed]",
      "text/plain": [
       "<Figure size 600x350 with 2 Axes>"
      ]
     },
     "metadata": {},
     "output_type": "display_data"
    }
   ],
   "source": [
    "custom_cmap = mcolors.LinearSegmentedColormap.from_list(\"custom\", ['#440054', '#31688E', '#27828E', '#FDE724'])\n",
    "\n",
    "plt.figure(figsize=(6, 3.5))\n",
    "sns.heatmap(confusion_matrix, annot=True, annot_kws={\n",
    "  'size': 16\n",
    "}, cmap=custom_cmap)\n",
    "plt.show()"
   ]
  }
 ],
 "metadata": {
  "kernelspec": {
   "display_name": "42AI-aabounak",
   "language": "python",
   "name": "python3"
  },
  "language_info": {
   "codemirror_mode": {
    "name": "ipython",
    "version": 3
   },
   "file_extension": ".py",
   "mimetype": "text/x-python",
   "name": "python",
   "nbconvert_exporter": "python",
   "pygments_lexer": "ipython3",
   "version": "3.10.9"
  },
  "orig_nbformat": 4
 },
 "nbformat": 4,
 "nbformat_minor": 2
}
