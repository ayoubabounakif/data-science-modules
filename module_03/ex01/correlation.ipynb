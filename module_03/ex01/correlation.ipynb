{
 "cells": [
  {
   "cell_type": "code",
   "execution_count": null,
   "metadata": {},
   "outputs": [],
   "source": [
    "import pandas as pd\n",
    "import matplotlib.pyplot as plt"
   ]
  },
  {
   "cell_type": "code",
   "execution_count": null,
   "metadata": {},
   "outputs": [],
   "source": [
    "train_knight = pd.read_csv('./knights/Train_knight.csv')\n",
    "test_knight = pd.read_csv('./knights/Test_knight.csv')"
   ]
  },
  {
   "cell_type": "code",
   "execution_count": null,
   "metadata": {},
   "outputs": [],
   "source": [
    "train_knight.head()"
   ]
  },
  {
   "cell_type": "code",
   "execution_count": null,
   "metadata": {},
   "outputs": [],
   "source": [
    "train_knight_copy = train_knight.copy()"
   ]
  },
  {
   "cell_type": "code",
   "execution_count": null,
   "metadata": {},
   "outputs": [],
   "source": [
    "train_knight_copy['knight'] = train_knight_copy['knight'].astype('category').cat.codes\n",
    "\n",
    "correlation_matrix = train_knight_copy.corr()\n",
    "knight_correlation = correlation_matrix['knight']\n",
    "\n",
    "sorted_correlations = knight_correlation.abs().sort_values(ascending=False)\n",
    "\n",
    "sorted_correlations"
   ]
  }
 ],
 "metadata": {
  "language_info": {
   "name": "python"
  },
  "orig_nbformat": 4
 },
 "nbformat": 4,
 "nbformat_minor": 2
}
