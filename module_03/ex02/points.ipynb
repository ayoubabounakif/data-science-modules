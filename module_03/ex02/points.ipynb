{
 "cells": [
  {
   "cell_type": "code",
   "execution_count": null,
   "metadata": {},
   "outputs": [],
   "source": [
    "import pandas as pd\n",
    "import matplotlib.pyplot as plt\n",
    "import seaborn as sns"
   ]
  },
  {
   "cell_type": "code",
   "execution_count": null,
   "metadata": {},
   "outputs": [],
   "source": [
    "train_knight = pd.read_csv('./knights/Train_knight.csv')\n",
    "test_knight = pd.read_csv('./knights/Test_knight.csv')"
   ]
  },
  {
   "cell_type": "code",
   "execution_count": null,
   "metadata": {},
   "outputs": [],
   "source": [
    "train_knight_copy = train_knight.copy()\n",
    "test_knight_copy = test_knight.copy()\n",
    "\n",
    "fig, axs = plt.subplots(2, 2, figsize=(10, 8))\n",
    "\n",
    "test_knight_copy['knight'] = train_knight_copy['knight']\n",
    "\n",
    "sns.scatterplot(data=train_knight_copy, x='Empowered', y='Stims', hue='knight', ax=axs[0][0], palette=['blue', 'red'], alpha=0.6)\n",
    "sns.scatterplot(data=train_knight_copy, x='Push', y='Deflection', hue='knight', ax=axs[0][1], palette=['blue', 'red'], alpha=0.6)\n",
    "\n",
    "sns.scatterplot(data=test_knight_copy, x='Empowered', y='Stims', ax=axs[1][0], color='mediumseagreen', alpha=0.5)\n",
    "sns.scatterplot(data=test_knight_copy, x='Push', y='Deflection', ax=axs[1][1], color='mediumseagreen', alpha=0.5)\n",
    "\n",
    "plt.show()\n"
   ]
  }
 ],
 "metadata": {
  "kernelspec": {
   "display_name": "42AI-aabounak",
   "language": "python",
   "name": "python3"
  },
  "language_info": {
   "name": "python",
   "version": "3.10.13"
  },
  "orig_nbformat": 4
 },
 "nbformat": 4,
 "nbformat_minor": 2
}
