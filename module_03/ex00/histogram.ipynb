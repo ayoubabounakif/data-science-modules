{
 "cells": [
  {
   "cell_type": "code",
   "execution_count": null,
   "metadata": {},
   "outputs": [],
   "source": [
    "import pandas as pd\n",
    "import matplotlib.pyplot as plt"
   ]
  },
  {
   "cell_type": "code",
   "execution_count": null,
   "metadata": {},
   "outputs": [],
   "source": [
    "train_knight = pd.read_csv('./knights/Train_knight.csv')\n",
    "test_knight = pd.read_csv('./knights/Test_knight.csv')"
   ]
  },
  {
   "cell_type": "code",
   "execution_count": null,
   "metadata": {},
   "outputs": [],
   "source": [
    "features = test_knight.columns\n",
    "features"
   ]
  },
  {
   "cell_type": "code",
   "execution_count": null,
   "metadata": {},
   "outputs": [],
   "source": [
    "len(features)"
   ]
  },
  {
   "cell_type": "code",
   "execution_count": null,
   "metadata": {},
   "outputs": [],
   "source": [
    "fig, axs = plt.subplots(6, 5, figsize=(14, 14))\n",
    "for idx, ax in enumerate(axs.flat):\n",
    "    ax.hist(test_knight[features[idx]], bins=40, color='mediumseagreen', label='Knight')\n",
    "    ax.legend()\n",
    "    ax.set_title(f'{features[idx]}')\n",
    "plt.tight_layout()\n",
    "plt.show()"
   ]
  },
  {
   "cell_type": "code",
   "execution_count": null,
   "metadata": {},
   "outputs": [],
   "source": [
    "features = train_knight.columns"
   ]
  },
  {
   "cell_type": "code",
   "execution_count": null,
   "metadata": {},
   "outputs": [],
   "source": [
    "train_knight.head()"
   ]
  },
  {
   "cell_type": "code",
   "execution_count": null,
   "metadata": {},
   "outputs": [],
   "source": [
    "fig, axs = plt.subplots(6, 5, figsize=(14, 14))\n",
    "for idx, ax in enumerate(axs.flat):\n",
    "    ax.hist(train_knight[train_knight['knight'] == 'Sith'][features[idx]], label='Sith', bins=30, color='pink')\n",
    "    ax.hist(train_knight[train_knight['knight'] == 'Jedi'][features[idx]], label='Jedi', bins=30, color='mediumslateblue', alpha=0.6)\n",
    "    ax.legend()\n",
    "    ax.set_title(f'{features[idx]}')\n",
    "plt.tight_layout()\n",
    "plt.show()"
   ]
  }
 ],
 "metadata": {
  "language_info": {
   "name": "python"
  },
  "orig_nbformat": 4
 },
 "nbformat": 4,
 "nbformat_minor": 2
}
