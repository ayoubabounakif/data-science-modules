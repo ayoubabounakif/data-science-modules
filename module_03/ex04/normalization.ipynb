{
 "cells": [
  {
   "cell_type": "code",
   "execution_count": null,
   "metadata": {},
   "outputs": [],
   "source": [
    "import pandas as pd\n",
    "import matplotlib.pyplot as plt\n",
    "import seaborn as sns\n",
    "from sklearn.preprocessing import StandardScaler"
   ]
  },
  {
   "cell_type": "code",
   "execution_count": null,
   "metadata": {},
   "outputs": [],
   "source": [
    "train_knight = pd.read_csv('./knights/Train_knight.csv')\n",
    "test_knight = pd.read_csv('./knights/Test_knight.csv')"
   ]
  },
  {
   "cell_type": "code",
   "execution_count": null,
   "metadata": {},
   "outputs": [],
   "source": [
    "train_knight_copy = train_knight.copy()\n",
    "test_knight_copy = test_knight.copy()"
   ]
  },
  {
   "cell_type": "code",
   "execution_count": null,
   "metadata": {},
   "outputs": [],
   "source": [
    "scaler = StandardScaler()\n",
    "\n",
    "train_knight_scaled = train_knight_copy.copy()\n",
    "test_knight_scaled = test_knight_copy.copy()\n",
    "\n",
    "for column in train_knight_copy:\n",
    "    if column != 'knight':\n",
    "        train_knight_scaled[column] = scaler.fit_transform(train_knight_copy[[column]])\n",
    "        test_knight_scaled[column] = scaler.transform(test_knight_copy[[column]])"
   ]
  },
  {
   "cell_type": "code",
   "execution_count": null,
   "metadata": {},
   "outputs": [],
   "source": [
    "# Normalization\n",
    "# z = (x - min(x)) / (max(x) - min(x))\n",
    "\n",
    "train_knight_normalized = train_knight_scaled.copy()\n",
    "test_knight_normalized = test_knight_scaled.copy()\n",
    "\n",
    "for column in train_knight_scaled:\n",
    "    if column != 'knight':\n",
    "        train_knight_normalized[column] = (train_knight_scaled[column] - train_knight_scaled[column].min()) / (train_knight_scaled[column].max() - train_knight_scaled[column].min())\n",
    "        test_knight_normalized[column] = (test_knight_scaled[column] - test_knight_scaled[column].min()) / (test_knight_scaled[column].max() - test_knight_scaled[column].min())"
   ]
  },
  {
   "cell_type": "markdown",
   "metadata": {},
   "source": []
  },
  {
   "cell_type": "code",
   "execution_count": null,
   "metadata": {},
   "outputs": [],
   "source": [
    "train_knight_normalized"
   ]
  },
  {
   "cell_type": "code",
   "execution_count": null,
   "metadata": {},
   "outputs": [],
   "source": [
    "sns.scatterplot(data=train_knight_normalized, x='Push', y='Deflection', hue='knight', palette=['blue', 'red'], alpha=0.6)\n",
    "plt.show()"
   ]
  }
 ],
 "metadata": {
  "kernelspec": {
   "display_name": "42AI-aabounak",
   "language": "python",
   "name": "python3"
  },
  "language_info": {
   "name": "python",
   "version": "3.10.13"
  },
  "orig_nbformat": 4
 },
 "nbformat": 4,
 "nbformat_minor": 2
}
