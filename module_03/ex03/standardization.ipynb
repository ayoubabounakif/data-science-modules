{
 "cells": [
  {
   "cell_type": "code",
   "execution_count": null,
   "metadata": {},
   "outputs": [],
   "source": [
    "import pandas as pd\n",
    "import matplotlib.pyplot as plt\n",
    "import seaborn as sns\n",
    "from sklearn.preprocessing import StandardScaler"
   ]
  },
  {
   "cell_type": "code",
   "execution_count": null,
   "metadata": {},
   "outputs": [],
   "source": [
    "train_knight = pd.read_csv('./knights/Train_knight.csv')\n",
    "test_knight = pd.read_csv('./knights/Test_knight.csv')"
   ]
  },
  {
   "cell_type": "code",
   "execution_count": null,
   "metadata": {},
   "outputs": [],
   "source": [
    "train_knight_copy = train_knight.copy()\n",
    "test_knight_copy = test_knight.copy()"
   ]
  },
  {
   "cell_type": "code",
   "execution_count": null,
   "metadata": {},
   "outputs": [],
   "source": [
    "# z = (x - u) / s\n",
    "scaler = StandardScaler()\n",
    "\n",
    "train_knight_scaled = train_knight_copy.copy()\n",
    "test_knight_scaled = test_knight_copy.copy()\n",
    "\n",
    "for column in train_knight_copy:\n",
    "    if column != 'knight':\n",
    "        train_knight_scaled[column] = scaler.fit_transform(train_knight_copy[[column]])\n",
    "        test_knight_scaled[column] = scaler.transform(test_knight_copy[[column]])"
   ]
  },
  {
   "cell_type": "code",
   "execution_count": null,
   "metadata": {},
   "outputs": [],
   "source": [
    "sns.scatterplot(data=train_knight_scaled, x='Empowered', y='Stims', hue='knight', palette=['blue', 'red'], alpha=0.6)\n",
    "plt.show()"
   ]
  }
 ],
 "metadata": {
  "kernelspec": {
   "display_name": "42AI-aabounak",
   "language": "python",
   "name": "python3"
  },
  "language_info": {
   "name": "python",
   "version": "3.10.13"
  },
  "orig_nbformat": 4
 },
 "nbformat": 4,
 "nbformat_minor": 2
}
