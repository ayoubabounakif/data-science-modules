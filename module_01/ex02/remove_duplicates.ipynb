{
 "cells": [
  {
   "cell_type": "code",
   "execution_count": null,
   "metadata": {},
   "outputs": [],
   "source": [
    "import pandas as pd\n",
    "import psycopg2 as ppg2"
   ]
  },
  {
   "cell_type": "code",
   "execution_count": null,
   "metadata": {},
   "outputs": [],
   "source": [
    "def connect_to_postgres():\n",
    "  con = ppg2.connect(\n",
    "    database=\"piscineds\",\n",
    "    user=\"aabounak\",\n",
    "    password=\"mysecretpassword\",\n",
    "    host=\"localhost\",\n",
    "    port=\"5432\"\n",
    "  )\n",
    "  return con"
   ]
  },
  {
   "cell_type": "code",
   "execution_count": null,
   "metadata": {},
   "outputs": [],
   "source": [
    "connection = connect_to_postgres()\n",
    "cursor_obj = connection.cursor()"
   ]
  },
  {
   "cell_type": "code",
   "execution_count": null,
   "metadata": {},
   "outputs": [],
   "source": [
    "sql_query = f\"\"\"\n",
    "  DELETE FROM customers\n",
    "  WHERE (event_time, event_type, product_id, price, user_id, user_session) IN (\n",
    "    SELECT \n",
    "      event_time, \n",
    "      event_type, \n",
    "      product_id, \n",
    "      price,\n",
    "      user_id,\n",
    "      user_session\n",
    "    FROM customers\n",
    "    GROUP BY \n",
    "      event_time, \n",
    "      event_type, \n",
    "      product_id, \n",
    "      price,\n",
    "      user_id,\n",
    "      user_session\n",
    "    HAVING COUNT(*) > 1\n",
    "  );\n",
    "\"\"\"\n",
    "\n",
    "cursor_obj.execute(sql_query)\n",
    "connection.commit()\n",
    "\n",
    "cursor_obj.close()"
   ]
  }
 ],
 "metadata": {
  "language_info": {
   "name": "python"
  },
  "orig_nbformat": 4
 },
 "nbformat": 4,
 "nbformat_minor": 2
}
