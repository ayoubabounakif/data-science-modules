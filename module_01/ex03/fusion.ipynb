{
 "cells": [
  {
   "cell_type": "code",
   "execution_count": null,
   "metadata": {},
   "outputs": [],
   "source": [
    "import psycopg2 as ppg2"
   ]
  },
  {
   "cell_type": "code",
   "execution_count": null,
   "metadata": {},
   "outputs": [],
   "source": [
    "def connect_to_postgres():\n",
    "  con = ppg2.connect(\n",
    "    database=\"piscineds\",\n",
    "    user=\"aabounak\",\n",
    "    password=\"mysecretpassword\",\n",
    "    host=\"localhost\",\n",
    "    port=\"5432\"\n",
    "  )\n",
    "  return con"
   ]
  },
  {
   "cell_type": "code",
   "execution_count": null,
   "metadata": {},
   "outputs": [],
   "source": [
    "connection = connect_to_postgres()\n",
    "cursor_obj = connection.cursor()"
   ]
  },
  {
   "cell_type": "code",
   "execution_count": null,
   "metadata": {},
   "outputs": [],
   "source": [
    "sql_query = \"\"\"\n",
    "  ALTER TABLE customers\n",
    "  ADD COLUMN category_id BIGINT,\n",
    "  ADD COLUMN category_code VARCHAR(255),\n",
    "  ADD COLUMN brand VARCHAR(255);\n",
    "\n",
    "  UPDATE customers\n",
    "  SET category_id = items.category_id,\n",
    "      category_code = items.category_code,\n",
    "      brand = items.brand\n",
    "  FROM items\n",
    "  WHERE customers.product_id = items.product_id;\n",
    "\"\"\"\n",
    "\n",
    "cursor_obj.execute(sql_query)\n",
    "connection.commit()\n",
    "\n",
    "cursor_obj.close()"
   ]
  }
 ],
 "metadata": {
  "kernelspec": {
   "display_name": "42AI-aabounak",
   "language": "python",
   "name": "python3"
  },
  "language_info": {
   "name": "python",
   "version": "3.10.13"
  },
  "orig_nbformat": 4
 },
 "nbformat": 4,
 "nbformat_minor": 2
}
