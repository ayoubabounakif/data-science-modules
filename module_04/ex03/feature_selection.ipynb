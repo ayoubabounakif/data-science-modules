{
 "cells": [
  {
   "cell_type": "code",
   "execution_count": null,
   "metadata": {},
   "outputs": [],
   "source": [
    "import pandas as pd\n",
    "from statsmodels.stats.outliers_influence import variance_inflation_factor\n"
   ]
  },
  {
   "cell_type": "code",
   "execution_count": null,
   "metadata": {},
   "outputs": [],
   "source": [
    "truth = './data/processed/truth.txt'\n",
    "pred = './data/processed/predictions.txt'\n",
    "\n",
    "df_truth = pd.read_csv(truth, header=None, names=['class'])\n",
    "df_pred = pd.read_csv(pred, header=None, names=['class'])"
   ]
  },
  {
   "cell_type": "code",
   "execution_count": null,
   "metadata": {},
   "outputs": [],
   "source": [
    "train_knight = pd.read_csv('./knights/Training_knight.csv')\n",
    "train_knight_copy = train_knight.copy()\n",
    "train_knight_copy['knight'] = train_knight_copy['knight'].astype('category').cat.codes"
   ]
  },
  {
   "cell_type": "code",
   "execution_count": null,
   "metadata": {},
   "outputs": [],
   "source": [
    "train_knight_scaled = (train_knight_copy - train_knight_copy.mean()) / train_knight_copy.std()"
   ]
  },
  {
   "cell_type": "code",
   "execution_count": null,
   "metadata": {},
   "outputs": [],
   "source": [
    "vif_data = pd.DataFrame()\n",
    "vif_data[\"VIF\"] = [variance_inflation_factor(train_knight_scaled.values, i)\n",
    "                          for i in range(len(train_knight_scaled.columns))]\n",
    "vif_data[\"Tolerance\"] = [1 / vif_data['VIF'][i] for i in range(len(vif_data['VIF']))]\n",
    "vif_data.set_index(train_knight_scaled.columns, inplace=True)\n",
    "\n",
    "vif_data\n",
    "\n",
    "# print(vif_data[vif_data['VIF'] < 5])"
   ]
  }
 ],
 "metadata": {
  "language_info": {
   "name": "python"
  },
  "orig_nbformat": 4
 },
 "nbformat": 4,
 "nbformat_minor": 2
}
