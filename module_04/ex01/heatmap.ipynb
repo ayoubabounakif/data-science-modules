{
 "cells": [
  {
   "cell_type": "code",
   "execution_count": null,
   "metadata": {},
   "outputs": [],
   "source": [
    "import seaborn as sns\n",
    "import pandas as pd\n",
    "import numpy as np\n",
    "import matplotlib.pyplot as plt"
   ]
  },
  {
   "cell_type": "code",
   "execution_count": null,
   "metadata": {},
   "outputs": [],
   "source": [
    "truth = './data/processed/truth.txt'\n",
    "pred = './data/processed/predictions.txt'\n",
    "\n",
    "df_truth = pd.read_csv(truth, header=None, names=['class'])\n",
    "df_pred = pd.read_csv(pred, header=None, names=['class'])"
   ]
  },
  {
   "cell_type": "code",
   "execution_count": null,
   "metadata": {},
   "outputs": [],
   "source": [
    "train_knight = pd.read_csv('./knights/Training_knight.csv')\n",
    "train_knight_copy = train_knight.copy()\n",
    "train_knight_copy['knight'] = train_knight_copy['knight'].astype('category').cat.codes\n",
    "correlation_matrix = train_knight_copy.corr()\n",
    "\n",
    "sns.heatmap(correlation_matrix)\n",
    "plt.show()"
   ]
  }
 ],
 "metadata": {
  "language_info": {
   "name": "python"
  },
  "orig_nbformat": 4
 },
 "nbformat": 4,
 "nbformat_minor": 2
}
