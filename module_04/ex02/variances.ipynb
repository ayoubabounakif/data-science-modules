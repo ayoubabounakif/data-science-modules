{
 "cells": [
  {
   "cell_type": "code",
   "execution_count": null,
   "metadata": {},
   "outputs": [],
   "source": [
    "import pandas as pd\n",
    "import numpy as np\n",
    "import matplotlib.pyplot as plt\n",
    "from sklearn.decomposition import PCA"
   ]
  },
  {
   "cell_type": "code",
   "execution_count": null,
   "metadata": {},
   "outputs": [],
   "source": [
    "truth = './data/processed/truth.txt'\n",
    "pred = './data/processed/predictions.txt'\n",
    "\n",
    "df_truth = pd.read_csv(truth, header=None, names=['class'])\n",
    "df_pred = pd.read_csv(pred, header=None, names=['class'])"
   ]
  },
  {
   "cell_type": "code",
   "execution_count": null,
   "metadata": {},
   "outputs": [],
   "source": [
    "train_knight = pd.read_csv('./knights/Training_knight.csv')\n",
    "train_knight_copy = train_knight.copy()\n",
    "train_knight_copy['knight'] = train_knight_copy['knight'].astype('category').cat.codes"
   ]
  },
  {
   "cell_type": "code",
   "execution_count": null,
   "metadata": {},
   "outputs": [],
   "source": [
    "train_knight_scaled = (train_knight_copy - train_knight_copy.mean()) / train_knight_copy.std()\n",
    "\n",
    "pca = PCA()\n",
    "pca.fit_transform(train_knight_scaled)\n",
    "\n",
    "variances = pca.explained_variance_ratio_\n",
    "cumulative_variances = np.cumsum(variances)\n",
    "\n",
    "np.set_printoptions(suppress=False)\n",
    "print(f\"Variances (Percentage):\\n {variances * 100}\\n\")\n",
    "print(f\"Cumulative Variances (Percentage):\\n{cumulative_variances * 100}\")\n",
    "\n",
    "plt.plot(cumulative_variances * 100)\n",
    "plt.xlabel('Number of components')\n",
    "plt.ylabel('Explained variance (%)')\n",
    "plt.show()"
   ]
  }
 ],
 "metadata": {
  "language_info": {
   "name": "python"
  },
  "orig_nbformat": 4
 },
 "nbformat": 4,
 "nbformat_minor": 2
}
