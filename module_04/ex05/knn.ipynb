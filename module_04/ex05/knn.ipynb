{
 "cells": [
  {
   "cell_type": "code",
   "execution_count": null,
   "metadata": {},
   "outputs": [],
   "source": [
    "import pandas as pd\n",
    "import matplotlib.pyplot as plt\n",
    "import numpy as np\n",
    "from sklearn.model_selection import train_test_split, precision_score, f1_score\n",
    "from sklearn.decomposition import PCA\n",
    "from sklearn import neighbors"
   ]
  },
  {
   "cell_type": "code",
   "execution_count": null,
   "metadata": {},
   "outputs": [],
   "source": [
    "train_data = pd.read_csv('./knights/Train_knight.csv')\n",
    "\n",
    "test_data = pd.read_csv('./knights/Test_knight.csv')\n",
    "td_X_test = test_data.values\n",
    "\n",
    "X = train_data.drop(['knight'], axis=1).values\n",
    "y = train_data['knight'].values\n",
    "\n",
    "X_train, X_test, y_train, y_test = train_test_split(X, y, test_size=0.2, random_state=42)\n",
    "\n",
    "X_train = (X_train - X_train.mean()) / X_train.std()\n",
    "X_test = (X_test - X_test.mean()) / X_test.std()\n",
    "\n",
    "pca = PCA(n_components=2)\n",
    "X_train = pca.fit_transform(X_train)\n",
    "X_test = pca.fit_transform(X_test)\n",
    "\n",
    "precision_scores = []\n",
    "f1_scores = []\n",
    "k_values = range(1, 31)\n",
    "td_knn_predictions = np.zeros(0)\n",
    "for k in k_values:\n",
    "    neigh = neighbors.KNeighborsClassifier(n_neighbors=k)\n",
    "    neigh.fit(X_train, y_train)\n",
    "    predictions = neigh.predict(X_test)\n",
    "    td_knn_predictions = neigh.predict(td_X_test)\n",
    "\n",
    "    precision_scores.append(precision_score(y_test, predictions, average='weighted'))\n",
    "    f1_scores.append(f1_score(y_test, predictions, average='weighted'))\n",
    "\n",
    "print(f'Average Precision = {np.mean(precision_scores)}')\n",
    "print(f'Average F1-Score = {np.mean(f1_scores)}')\n",
    "\n",
    "# for k, precision, f1 in zip(k_values, precision_scores, f1_scores):\n",
    "#     print(f'K={k}: Precision={precision:.4f}, F1-Score={f1:.4f}')\n",
    "\n",
    "plt.plot(k_values, precision_scores)\n",
    "plt.xlabel('K-Values')\n",
    "plt.ylabel('Accuracy')\n",
    "plt.show()"
   ]
  },
  {
   "cell_type": "code",
   "execution_count": null,
   "metadata": {},
   "outputs": [],
   "source": [
    "np.savetxt('./data/processed/KNN.txt', td_knn_predictions, fmt='%s')"
   ]
  }
 ],
 "metadata": {
  "language_info": {
   "name": "python"
  },
  "orig_nbformat": 4
 },
 "nbformat": 4,
 "nbformat_minor": 2
}
