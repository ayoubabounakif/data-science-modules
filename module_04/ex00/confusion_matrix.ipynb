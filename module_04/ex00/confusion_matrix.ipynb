{
 "cells": [
  {
   "cell_type": "code",
   "execution_count": null,
   "metadata": {},
   "outputs": [],
   "source": [
    "import pandas as pd\n",
    "import matplotlib.pyplot as plt\n",
    "import matplotlib.colors as mcolors\n",
    "import seaborn as sns\n",
    "import numpy as np"
   ]
  },
  {
   "cell_type": "code",
   "execution_count": null,
   "metadata": {},
   "outputs": [],
   "source": [
    "truth = './data/processed/truth.txt'\n",
    "pred = './data/processed/predictions.txt'\n",
    "\n",
    "df_truth = pd.read_csv(truth, header=None, names=['class'])\n",
    "df_pred = pd.read_csv(pred, header=None, names=['class'])"
   ]
  },
  {
   "cell_type": "code",
   "execution_count": null,
   "metadata": {},
   "outputs": [],
   "source": [
    "df_truth, df_pred"
   ]
  },
  {
   "cell_type": "code",
   "execution_count": null,
   "metadata": {},
   "outputs": [],
   "source": [
    "def generate_confusion_matrix(truth, pred, true_label, negative_label):\n",
    "    confusion_matrix = np.array([\n",
    "        [0, 0],\n",
    "        [0, 0]\n",
    "    ])\n",
    "\n",
    "    for i in range(len(truth)):\n",
    "        if truth['class'][i] == true_label and pred['class'][i] == true_label: # TP\n",
    "            confusion_matrix[0][0] += 1\n",
    "        elif truth['class'][i] == negative_label and pred['class'][i] == negative_label: # TN\n",
    "            confusion_matrix[1][1] += 1\n",
    "        elif truth['class'][i] == true_label and pred['class'][i] == negative_label: # FP\n",
    "            confusion_matrix[0][1] += 1\n",
    "        elif truth['class'][i] == negative_label and pred['class'][i] == true_label: # FN\n",
    "            confusion_matrix[1][0] += 1\n",
    "\n",
    "    return confusion_matrix\n",
    "\n",
    "def generate_metrics(confusion_matrix):\n",
    "    TP = confusion_matrix[0][0]\n",
    "    TN = confusion_matrix[1][1]\n",
    "    FP = confusion_matrix[0][1]\n",
    "    FN = confusion_matrix[1][0]\n",
    "\n",
    "    precision = float(f'{TP / (TP + FP):.2f}')\n",
    "    recall = float(f'{TP / (TP + FN):.2f}')\n",
    "    f1_score = float(f'{2 * (precision * recall) / (precision + recall):.2f}')\n",
    "    accuracy = float(f'{(TP + TN) / (TP + TN + FP + FN):.2f}')\n",
    "\n",
    "    return precision, recall, f1_score, accuracy\n",
    "\n"
   ]
  },
  {
   "cell_type": "code",
   "execution_count": null,
   "metadata": {},
   "outputs": [],
   "source": [
    "j_confusion_matrix = generate_confusion_matrix(df_pred, df_truth, 'Jedi', 'Sith')\n",
    "s_confusion_matrix = generate_confusion_matrix(df_pred, df_truth, 'Sith', 'Jedi')\n",
    "\n",
    "j_precision, j_recall, j_f1_score, j_accuracy = generate_metrics(j_confusion_matrix)\n",
    "s_precision, s_recall, s_f1_score, s_accuracy = generate_metrics(s_confusion_matrix)\n",
    "\n",
    "j_total = len(df_truth[df_truth['class'] == 'Jedi'])\n",
    "s_total = len(df_truth[df_truth['class'] == 'Sith'])"
   ]
  },
  {
   "cell_type": "code",
   "execution_count": null,
   "metadata": {},
   "outputs": [],
   "source": [
    "df_metrics = pd.DataFrame({\n",
    "    'precision': [j_precision, s_precision],\n",
    "    'recall': [j_recall, s_recall],\n",
    "    'f1_score': [j_f1_score, s_f1_score],\n",
    "    'total': [j_total, s_total],\n",
    "}, index=['Jedi', 'Sith'])\n",
    "\n",
    "df_metrics.loc['Accuracy'] = ['', '', j_accuracy, j_total + s_total]\n",
    "print(df_metrics)\n",
    "\n",
    "confusion_matrix = generate_confusion_matrix(df_truth, df_pred, 'Jedi', 'Sith')\n",
    "print(confusion_matrix)\n",
    "\n",
    "# [[25 24]\n",
    "# [30 21]]"
   ]
  },
  {
   "cell_type": "code",
   "execution_count": null,
   "metadata": {},
   "outputs": [],
   "source": [
    "custom_cmap = mcolors.LinearSegmentedColormap.from_list(\"custom\", ['#440054', '#31688E', '#27828E', '#FDE724'])\n",
    "\n",
    "plt.figure(figsize=(6, 3.5))\n",
    "sns.heatmap(confusion_matrix, annot=True, annot_kws={\n",
    "  'size': 16\n",
    "}, cmap=custom_cmap)\n",
    "plt.show()"
   ]
  }
 ],
 "metadata": {
  "kernelspec": {
   "display_name": "42AI-aabounak",
   "language": "python",
   "name": "python3"
  },
  "language_info": {
   "name": "python",
   "version": "3.10.13"
  },
  "orig_nbformat": 4
 },
 "nbformat": 4,
 "nbformat_minor": 2
}
