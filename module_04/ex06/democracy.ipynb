{
 "cells": [
  {
   "cell_type": "code",
   "execution_count": null,
   "metadata": {},
   "outputs": [],
   "source": [
    "import pandas as pd\n",
    "import matplotlib.pyplot as plt\n",
    "import seaborn as sns\n",
    "import numpy as np\n",
    "from sklearn.model_selection import train_test_split\n",
    "from sklearn.decomposition import PCA\n",
    "from sklearn.metrics import classification_report\n",
    "from sklearn import tree, neighbors, metrics\n",
    "from sklearn.ensemble import VotingClassifier\n",
    "from sklearn.linear_model import LogisticRegression"
   ]
  },
  {
   "cell_type": "code",
   "execution_count": null,
   "metadata": {},
   "outputs": [],
   "source": [
    "train_data = pd.read_csv('./knights/Train_knight.csv')\n",
    "\n",
    "X = train_data.drop(columns='knight', axis=1).values\n",
    "y = train_data['knight'].values\n",
    "\n",
    "X_train, X_test, y_train, y_test = train_test_split(X, y, test_size=0.2, random_state=42)\n",
    "\n",
    "X_train = (X_train - X_train.mean()) / X_train.std()\n",
    "X_test = (X_test - X_test.mean()) / X_test.std()\n",
    "\n",
    "clf = LogisticRegression()\n",
    "clf.fit(X_train, y_train)\n",
    "\n",
    "predictions = clf.predict(X_test)\n",
    "score = clf.score(X_test, y_test)\n",
    "\n",
    "cm = metrics.confusion_matrix(y_test, predictions)\n",
    "print(classification_report(y_test, predictions))\n",
    "\n",
    "sns.heatmap(cm, annot=True)\n",
    "plt.show()"
   ]
  },
  {
   "cell_type": "code",
   "execution_count": null,
   "metadata": {},
   "outputs": [],
   "source": [
    "train_data = pd.read_csv('./knights/Train_knight.csv')\n",
    "\n",
    "X = train_data.drop(['knight'], axis=1).values\n",
    "y = train_data['knight'].values\n",
    "\n",
    "X_train, X_test, y_train, y_test = train_test_split(X, y, test_size=0.15, random_state=42)\n",
    "\n",
    "X_train = (X_train - X_train.mean()) / X_train.std()\n",
    "X_test = (X_test - X_test.mean()) / X_test.std()\n",
    "\n",
    "pca = PCA(n_components=2)\n",
    "X_train = pca.fit_transform(X_train)\n",
    "X_test = pca.fit_transform(X_test)\n",
    "\n",
    "clf1 = tree.DecisionTreeClassifier()\n",
    "clf2 = LogisticRegression()\n",
    "clf3 = neighbors.KNeighborsClassifier(n_neighbors=30)\n",
    "\n",
    "clf1 = clf1.fit(X_train, y_train)\n",
    "clf1_predictions = clf1.predict(X_test)\n",
    "\n",
    "clf2.fit(X_train, y_train)\n",
    "clf2_predictions = clf2.predict(X_test)\n",
    "\n",
    "clf3.fit(X_train, y_train)\n",
    "clf3_predictions = clf3.predict(X_test)\n",
    "\n",
    "eclf = VotingClassifier(estimators=[('dt', clf1), ('lr', clf2), ('knn', clf3)], voting='hard')\n",
    "eclf.fit(X_train, y_train)\n",
    "\n",
    "eclf_predictions = eclf.predict(X_test)\n",
    "print(classification_report(y_test, eclf_predictions))\n",
    "score = eclf.score(X_test, y_test)\n",
    "print(score)"
   ]
  },
  {
   "cell_type": "code",
   "execution_count": null,
   "metadata": {},
   "outputs": [],
   "source": [
    "test_data = pd.read_csv('./knights/Test_knight.csv')\n",
    "X_test = test_data.values\n",
    "pca = PCA(n_components=2)\n",
    "X_test = pca.fit_transform(X_test)\n",
    "predictions = eclf.predict(X_test)\n",
    "np.savetxt('./data/processed/Voting.txt', predictions, fmt='%s')"
   ]
  }
 ],
 "metadata": {
  "language_info": {
   "name": "python"
  },
  "orig_nbformat": 4
 },
 "nbformat": 4,
 "nbformat_minor": 2
}
