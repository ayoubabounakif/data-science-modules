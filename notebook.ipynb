{
 "cells": [
  {
   "cell_type": "code",
   "execution_count": 4,
   "metadata": {},
   "outputs": [],
   "source": [
    "import pandas as pd\n",
    "import psycopg2 as ppg2"
   ]
  },
  {
   "cell_type": "code",
   "execution_count": 5,
   "metadata": {},
   "outputs": [],
   "source": [
    "def connect_to_postgres():\n",
    "  con = ppg2.connect(\n",
    "    database=\"piscineds\",\n",
    "    user=\"aabounak\",\n",
    "    password=\"mysecretpassword\",\n",
    "    host=\"localhost\",\n",
    "    port=\"5432\"\n",
    "  )\n",
    "  return con"
   ]
  },
  {
   "cell_type": "markdown",
   "metadata": {},
   "source": [
    "## Module 00\n"
   ]
  },
  {
   "cell_type": "code",
   "execution_count": null,
   "metadata": {},
   "outputs": [],
   "source": [
    "connection = connect_to_postgres()\n",
    "cursor_obj = connection.cursor()"
   ]
  },
  {
   "cell_type": "code",
   "execution_count": null,
   "metadata": {},
   "outputs": [],
   "source": [
    "customers_csvs = [\n",
    "  \"data_2022_oct.csv\",\n",
    "  \"data_2022_nov.csv\",\n",
    "  \"data_2022_dec.csv\",\n",
    "  \"data_2023_jan.csv\",\n",
    "  \"data_2023_feb.csv\",\n",
    "]\n",
    "\n",
    "for file in csvs:\n",
    "  table_name = f\"{file.split('.')[0]}\"\n",
    "  sql_query = f\"\"\"\n",
    "    CREATE TABLE IF NOT EXISTS public.\"{table_name}\" (\n",
    "      event_time TIMESTAMP WITH TIME ZONE,\n",
    "      event_type VARCHAR(50),\n",
    "      product_id INTEGER,\n",
    "      price NUMERIC(10, 2),\n",
    "      user_id INTEGER,\n",
    "      user_session VARCHAR(100)\n",
    "    );\n",
    "  \"\"\"\n",
    "  cursor_obj.execute(sql_query)\n",
    "  connection.commit()\n",
    "\n",
    "# cursor_obj.close()"
   ]
  },
  {
   "cell_type": "code",
   "execution_count": null,
   "metadata": {},
   "outputs": [],
   "source": [
    "# cursor_obj = connection.cursor()\n",
    "\n",
    "for file in csvs:\n",
    "  table_name = f\"{file.split('.')[0]}\"\n",
    "  file_path = f\"./customers/{file}\"\n",
    "\n",
    "  with open(file_path, 'r') as f:\n",
    "    next(f)\n",
    "    cursor_obj.copy_from(\n",
    "      f,\n",
    "      table_name,\n",
    "      sep=',',\n",
    "      null='',\n",
    "      columns=(\n",
    "        'event_time',\n",
    "        'event_type',\n",
    "        'product_id',\n",
    "        'price',\n",
    "        'user_id',\n",
    "        'user_session'))\n",
    "    connection.commit()\n",
    "    \n",
    "# cursor_obj.close()"
   ]
  },
  {
   "cell_type": "markdown",
   "metadata": {},
   "source": [
    "### Exercise 04\n"
   ]
  },
  {
   "cell_type": "code",
   "execution_count": null,
   "metadata": {},
   "outputs": [],
   "source": [
    "# cursor_obj = connection.cursor()\n",
    "\n",
    "file = \"item.csv\"\n",
    "table_name = f\"{file.split('.')[0]}\"\n",
    "file_path = f\"./{file}\"\n",
    "\n",
    "sql_query = f\"\"\"\n",
    "  CREATE TABLE IF NOT EXISTS public.\"{table_name}\" (\n",
    "    product_id BIGINT,\n",
    "    category_id BIGINT,\n",
    "    category_code TEXT,\n",
    "    brand TEXT\n",
    "  );\n",
    "\"\"\"\n",
    "cursor_obj.execute(sql_query)\n",
    "connection.commit()\n",
    "\n",
    "with open(file_path, 'r') as f:\n",
    "  next(f)\n",
    "  cursor_obj.copy_from(\n",
    "    f,\n",
    "    table_name,\n",
    "    sep=',',\n",
    "    null='',\n",
    "    columns=(\n",
    "      'product_id',\n",
    "      'category_id',\n",
    "      'category_code',\n",
    "      'brand'\n",
    "    )\n",
    "  )\n",
    "connection.commit()\n",
    "\n",
    "# cursor_obj.close()"
   ]
  },
  {
   "cell_type": "markdown",
   "metadata": {},
   "source": [
    "## Module 01\n"
   ]
  },
  {
   "cell_type": "markdown",
   "metadata": {},
   "source": [
    "### Exercise 01"
   ]
  },
  {
   "cell_type": "code",
   "execution_count": null,
   "metadata": {},
   "outputs": [],
   "source": [
    "# cursor_obj = connection.cursor()\n",
    "\n",
    "sql_query = f\"\"\"\n",
    "  CREATE TABLE customers AS\n",
    "  SELECT * FROM data_2022_dec\n",
    "  UNION ALL\n",
    "  SELECT * FROM data_2022_nov\n",
    "  UNION ALL\n",
    "  SELECT * FROM data_2022_oct\n",
    "  UNION ALL\n",
    "  SELECT * from data_2023_jan\n",
    "  UNION ALL\n",
    "  SELECT * from data_2023_feb;\n",
    "\"\"\"\n",
    "\n",
    "cursor_obj.execute(sql_query)\n",
    "connection.commit()\n",
    "\n",
    "# cursor_obj.close()"
   ]
  },
  {
   "cell_type": "markdown",
   "metadata": {},
   "source": [
    "### Exercise 02"
   ]
  },
  {
   "cell_type": "code",
   "execution_count": 8,
   "metadata": {},
   "outputs": [
    {
     "ename": "NameError",
     "evalue": "name 'table_name' is not defined",
     "output_type": "error",
     "traceback": [
      "\u001b[0;31m---------------------------------------------------------------------------\u001b[0m",
      "\u001b[0;31mNameError\u001b[0m                                 Traceback (most recent call last)",
      "Cell \u001b[0;32mIn[8], line 2\u001b[0m\n\u001b[1;32m      1\u001b[0m sql_query \u001b[39m=\u001b[39m \u001b[39mf\u001b[39m\u001b[39m\"\"\"\u001b[39m\n\u001b[0;32m----> 2\u001b[0m \u001b[39m  DELETE FROM \u001b[39m\u001b[39m{\u001b[39;00mtable_name\u001b[39m}\u001b[39;00m\n\u001b[1;32m      3\u001b[0m \u001b[39m  WHERE (event_time, event_type, product_id, price, user_id, user_session) IN (\u001b[39m\n\u001b[1;32m      4\u001b[0m \u001b[39m    SELECT \u001b[39m\n\u001b[1;32m      5\u001b[0m \u001b[39m      event_time, \u001b[39m\n\u001b[1;32m      6\u001b[0m \u001b[39m      event_type, \u001b[39m\n\u001b[1;32m      7\u001b[0m \u001b[39m      product_id, \u001b[39m\n\u001b[1;32m      8\u001b[0m \u001b[39m      price,\u001b[39m\n\u001b[1;32m      9\u001b[0m \u001b[39m      user_id,\u001b[39m\n\u001b[1;32m     10\u001b[0m \u001b[39m      user_session\u001b[39m\n\u001b[1;32m     11\u001b[0m \u001b[39m    FROM \u001b[39m\u001b[39m{\u001b[39;00mtable_name\u001b[39m}\u001b[39;00m\n\u001b[1;32m     12\u001b[0m \u001b[39m    GROUP BY \u001b[39m\n\u001b[1;32m     13\u001b[0m \u001b[39m      event_time, \u001b[39m\n\u001b[1;32m     14\u001b[0m \u001b[39m      event_type, \u001b[39m\n\u001b[1;32m     15\u001b[0m \u001b[39m      product_id, \u001b[39m\n\u001b[1;32m     16\u001b[0m \u001b[39m      price,\u001b[39m\n\u001b[1;32m     17\u001b[0m \u001b[39m      user_id,\u001b[39m\n\u001b[1;32m     18\u001b[0m \u001b[39m      user_session\u001b[39m\n\u001b[1;32m     19\u001b[0m \u001b[39m    HAVING COUNT(*) > 1\u001b[39m\n\u001b[1;32m     20\u001b[0m \u001b[39m  );\u001b[39m\n\u001b[1;32m     21\u001b[0m \u001b[39m\"\"\"\u001b[39m\n\u001b[1;32m     23\u001b[0m cursor_obj\u001b[39m.\u001b[39mexecute(sql_query)\n\u001b[1;32m     24\u001b[0m connection\u001b[39m.\u001b[39mcommit()\n",
      "\u001b[0;31mNameError\u001b[0m: name 'table_name' is not defined"
     ]
    }
   ],
   "source": [
    "sql_query = f\"\"\"\n",
    "  DELETE FROM customers\n",
    "  WHERE (event_time, event_type, product_id, price, user_id, user_session) IN (\n",
    "    SELECT \n",
    "      event_time, \n",
    "      event_type, \n",
    "      product_id, \n",
    "      price,\n",
    "      user_id,\n",
    "      user_session\n",
    "    FROM customers\n",
    "    GROUP BY \n",
    "      event_time, \n",
    "      event_type, \n",
    "      product_id, \n",
    "      price,\n",
    "      user_id,\n",
    "      user_session\n",
    "    HAVING COUNT(*) > 1\n",
    "  );\n",
    "\"\"\"\n",
    "\n",
    "cursor_obj.execute(sql_query)\n",
    "connection.commit()"
   ]
  },
  {
   "cell_type": "markdown",
   "metadata": {},
   "source": [
    "### Exercise 03"
   ]
  },
  {
   "cell_type": "code",
   "execution_count": null,
   "metadata": {},
   "outputs": [],
   "source": [
    "sql_query = \"\"\"\n",
    "  SELECT * FROM customers\n",
    "  FULL JOIN items ON customers.product_id = items.product_id;\n",
    "\"\"\"\n",
    "\n",
    "cursor_obj.execute(sql_query)\n",
    "connection.commit()"
   ]
  },
  {
   "cell_type": "code",
   "execution_count": null,
   "metadata": {},
   "outputs": [],
   "source": [
    "cursor_obj.close()"
   ]
  }
 ],
 "metadata": {
  "kernelspec": {
   "display_name": "42AI-aabounak",
   "language": "python",
   "name": "python3"
  },
  "language_info": {
   "codemirror_mode": {
    "name": "ipython",
    "version": 3
   },
   "file_extension": ".py",
   "mimetype": "text/x-python",
   "name": "python",
   "nbconvert_exporter": "python",
   "pygments_lexer": "ipython3",
   "version": "3.10.9"
  },
  "orig_nbformat": 4
 },
 "nbformat": 4,
 "nbformat_minor": 2
}
