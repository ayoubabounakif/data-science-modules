{
 "cells": [
  {
   "cell_type": "code",
   "execution_count": null,
   "metadata": {},
   "outputs": [],
   "source": [
    "import pandas as pd\n",
    "import psycopg2 as ppg2"
   ]
  },
  {
   "cell_type": "markdown",
   "metadata": {},
   "source": [
    "<!-- psql -U aabounak -d piscineds -h localhost -W -->"
   ]
  },
  {
   "cell_type": "code",
   "execution_count": 45,
   "metadata": {},
   "outputs": [],
   "source": [
    "def connect_to_postgres():\n",
    "  con = ppg2.connect(\n",
    "    database=\"piscineds\",\n",
    "    user=\"aabounak\",\n",
    "    password=\"mysecretpassword\",\n",
    "    host=\"localhost\",\n",
    "    port=\"5432\"\n",
    "  )\n",
    "  return con"
   ]
  },
  {
   "cell_type": "markdown",
   "metadata": {},
   "source": [
    "## Module 00\n"
   ]
  },
  {
   "cell_type": "code",
   "execution_count": 46,
   "metadata": {},
   "outputs": [],
   "source": [
    "connection = connect_to_postgres()\n",
    "cursor_obj = connection.cursor()"
   ]
  },
  {
   "cell_type": "code",
   "execution_count": 47,
   "metadata": {},
   "outputs": [],
   "source": [
    "customers_csvs = [\n",
    "  \"data_2022_oct.csv\",\n",
    "  \"data_2022_nov.csv\",\n",
    "  \"data_2022_dec.csv\",\n",
    "  \"data_2023_jan.csv\",\n",
    "  \"data_2023_feb.csv\",\n",
    "]\n",
    "\n",
    "for file in customers_csvs:\n",
    "  table_name = f\"{file.split('.')[0]}\"\n",
    "  sql_query = f\"\"\"\n",
    "    CREATE TABLE IF NOT EXISTS public.\"{table_name}\" (\n",
    "      event_time TIMESTAMP WITH TIME ZONE,\n",
    "      event_type VARCHAR(50),\n",
    "      product_id INTEGER,\n",
    "      price NUMERIC(10, 2),\n",
    "      user_id INTEGER,\n",
    "      user_session VARCHAR(100)\n",
    "    );\n",
    "  \"\"\"\n",
    "  cursor_obj.execute(sql_query)\n",
    "  connection.commit()\n",
    "\n",
    "# cursor_obj.close()"
   ]
  },
  {
   "cell_type": "code",
   "execution_count": 48,
   "metadata": {},
   "outputs": [],
   "source": [
    "# cursor_obj = connection.cursor()\n",
    "\n",
    "customers_csvs = [\n",
    "    \"data_2022_dec.csv\"\n",
    "]\n",
    "for file in customers_csvs:\n",
    "  table_name = f\"{file.split('.')[0]}\"\n",
    "  file_path = f\"./customers/{file}\"\n",
    "\n",
    "  with open(file_path, 'r') as f:\n",
    "    next(f)\n",
    "    cursor_obj.copy_from(\n",
    "      f,\n",
    "      table_name,\n",
    "      sep=',',\n",
    "      null='',\n",
    "      columns=(\n",
    "        'event_time',\n",
    "        'event_type',\n",
    "        'product_id',\n",
    "        'price',\n",
    "        'user_id',\n",
    "        'user_session'))\n",
    "    connection.commit()\n",
    "    \n",
    "# cursor_obj.close()"
   ]
  },
  {
   "cell_type": "markdown",
   "metadata": {},
   "source": [
    "### Exercise 04\n"
   ]
  },
  {
   "cell_type": "code",
   "execution_count": 35,
   "metadata": {},
   "outputs": [],
   "source": [
    "# cursor_obj = connection.cursor()\n",
    "\n",
    "table_name = \"items\"\n",
    "\n",
    "sql_query = f\"\"\"\n",
    "  CREATE TABLE IF NOT EXISTS public.\"{table_name}\" (\n",
    "    product_id INTEGER,\n",
    "    category_id BIGINT,\n",
    "    category_code TEXT,\n",
    "    brand TEXT\n",
    "  );\n",
    "\"\"\"\n",
    "cursor_obj.execute(sql_query)\n",
    "connection.commit()\n",
    "\n",
    "file_path = \"./items/item.csv\"\n",
    "\n",
    "with open(file_path, 'r') as f:\n",
    "  next(f)\n",
    "  cursor_obj.copy_from(\n",
    "    f,\n",
    "    table_name,\n",
    "    sep=',',\n",
    "    null='',\n",
    "    columns=(\n",
    "      'product_id',\n",
    "      'category_id',\n",
    "      'category_code',\n",
    "      'brand'\n",
    "    )\n",
    "  )\n",
    "connection.commit()\n",
    "\n",
    "# cursor_obj.close()"
   ]
  },
  {
   "cell_type": "markdown",
   "metadata": {},
   "source": [
    "## Module 01\n"
   ]
  },
  {
   "cell_type": "markdown",
   "metadata": {},
   "source": [
    "### Exercise 01"
   ]
  },
  {
   "cell_type": "code",
   "execution_count": 41,
   "metadata": {},
   "outputs": [],
   "source": [
    "# cursor_obj = connection.cursor()\n",
    "\n",
    "sql_query = f\"\"\"\n",
    "  CREATE TABLE IF NOT EXISTS customers AS\n",
    "  SELECT * FROM data_2022_dec\n",
    "  UNION ALL\n",
    "  SELECT * FROM data_2022_nov\n",
    "  UNION ALL\n",
    "  SELECT * FROM data_2022_oct\n",
    "  UNION ALL\n",
    "  SELECT * from data_2023_jan\n",
    "  UNION ALL\n",
    "  SELECT * from data_2023_feb;\n",
    "\"\"\"\n",
    "\n",
    "cursor_obj.execute(sql_query)\n",
    "connection.commit()\n",
    "\n",
    "# cursor_obj.close()"
   ]
  },
  {
   "cell_type": "markdown",
   "metadata": {},
   "source": [
    "### Exercise 02"
   ]
  },
  {
   "cell_type": "code",
   "execution_count": null,
   "metadata": {},
   "outputs": [],
   "source": [
    "sql_query = f\"\"\"\n",
    "  DELETE FROM customers\n",
    "  WHERE (event_time, event_type, product_id, price, user_id, user_session) IN (\n",
    "    SELECT \n",
    "      event_time, \n",
    "      event_type, \n",
    "      product_id, \n",
    "      price,\n",
    "      user_id,\n",
    "      user_session\n",
    "    FROM customers\n",
    "    GROUP BY \n",
    "      event_time, \n",
    "      event_type, \n",
    "      product_id, \n",
    "      price,\n",
    "      user_id,\n",
    "      user_session\n",
    "    HAVING COUNT(*) > 1\n",
    "  );\n",
    "\"\"\"\n",
    "\n",
    "cursor_obj.execute(sql_query)\n",
    "connection.commit()"
   ]
  },
  {
   "cell_type": "markdown",
   "metadata": {},
   "source": [
    "### Exercise 03"
   ]
  },
  {
   "cell_type": "markdown",
   "metadata": {},
   "source": [
    "#### This is not working due to PERFORMANCE ISSUES"
   ]
  },
  {
   "cell_type": "code",
   "execution_count": 49,
   "metadata": {},
   "outputs": [],
   "source": [
    "sql_query = \"\"\"\n",
    "  CREATE TABLE combined_data AS\n",
    "  SELECT * FROM data_2022_dec\n",
    "  INNER JOIN items ON data_2022_dec.product_id = items.product_id;\n",
    "\"\"\"\n",
    "\n",
    "cursor_obj.execute(sql_query)\n",
    "connection.commit()"
   ]
  },
  {
   "cell_type": "markdown",
   "metadata": {},
   "source": [
    "<!-- CREATE TABLE combined_table AS\n",
    "SELECT\n",
    "    c.event_time,\n",
    "    c.event_type,\n",
    "    c.price,\n",
    "    c.user_id,\n",
    "    c.user_session,\n",
    "    i.product_id,\n",
    "    i.category_id,\n",
    "    i.category_code,\n",
    "    i.brand\n",
    "FROM data_2022_dec c\n",
    "JOIN items i ON c.product_id = i.product_id\n",
    "GROUP BY\n",
    "    c.event_time,\n",
    "    c.event_type,\n",
    "    c.price,\n",
    "    c.user_id,\n",
    "    c.user_session,\n",
    "    i.product_id,\n",
    "    i.category_id,\n",
    "    i.category_code,\n",
    "    i.brand; -->\n"
   ]
  },
  {
   "cell_type": "code",
   "execution_count": null,
   "metadata": {},
   "outputs": [],
   "source": [
    "cursor_obj.close()"
   ]
  },
  {
   "cell_type": "markdown",
   "metadata": {},
   "source": [
    "<!-- SELECT\n",
    "    customers.event_time,\n",
    "    customers.event_type,\n",
    "    customers.price,\n",
    "    customers.user_id,\n",
    "    customers.user_session,\n",
    "    items.product_id,\n",
    "    items.category_id,\n",
    "    items.category_code,\n",
    "    items.brand\n",
    "FROM customers\n",
    "JOIN items ON customers.product_id = items.product_id\n",
    "GROUP BY\n",
    "    customers.event_time,\n",
    "    customers.event_type,\n",
    "    customers.price,\n",
    "    customers.user_id,\n",
    "    customers.user_session,\n",
    "    items.product_id,\n",
    "    items.category_id,\n",
    "    items.category_code,\n",
    "    items.brand; -->\n"
   ]
  }
 ],
 "metadata": {
  "kernelspec": {
   "display_name": "42AI-aabounak",
   "language": "python",
   "name": "python3"
  },
  "language_info": {
   "codemirror_mode": {
    "name": "ipython",
    "version": 3
   },
   "file_extension": ".py",
   "mimetype": "text/x-python",
   "name": "python",
   "nbconvert_exporter": "python",
   "pygments_lexer": "ipython3",
   "version": "3.10.9"
  },
  "orig_nbformat": 4
 },
 "nbformat": 4,
 "nbformat_minor": 2
}
